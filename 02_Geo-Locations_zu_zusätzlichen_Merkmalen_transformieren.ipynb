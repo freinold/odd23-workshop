{
 "cells": [
  {
   "cell_type": "markdown",
   "id": "49d05e42-2c06-45b2-9d68-ff27cdd10626",
   "metadata": {
    "tags": []
   },
   "source": [
    "## Geo-Locations zu zusätzlichen Merkmalen transformieren"
   ]
  },
  {
   "cell_type": "code",
   "execution_count": null,
   "id": "4007aadb-7020-468e-bed5-7d13b405bf67",
   "metadata": {
    "tags": []
   },
   "outputs": [],
   "source": [
    "# ! pip install -U pandas geopandas geopy folium scikit-learn"
   ]
  },
  {
   "cell_type": "markdown",
   "id": "89ab6b40-fb86-4766-a346-1230d2bfa645",
   "metadata": {},
   "source": [
    "Wir arbeiten wieder mit Pandas, aber auch der Erweiterung GeoPandas, welche die Arbeit mit Koordinaten-basierten Daten vereinfacht. Zudem benötigen wir wieder SciKit-Learn, um ein ML-Modell zu trainieren und zu evaluieren."
   ]
  },
  {
   "cell_type": "code",
   "execution_count": null,
   "id": "a5d39e3d-38af-4f13-bf7e-5569779bbe81",
   "metadata": {},
   "outputs": [],
   "source": [
    "import pandas as pd\n",
    "import geopandas as gpd\n",
    "from sklearn.ensemble import GradientBoostingRegressor\n",
    "from sklearn.model_selection import train_test_split"
   ]
  },
  {
   "cell_type": "markdown",
   "id": "ebb0986e-3871-4f92-b308-68d25c602ce9",
   "metadata": {},
   "source": [
    "In diesem Fall haben wir einen vorliegenden Datensatz als GeoJSON, welcher Koordinaten und einen Zielwert zur Vorhersage enthält."
   ]
  },
  {
   "cell_type": "code",
   "execution_count": null,
   "id": "b01a26d1-fc7a-41f6-bd92-d7f77a809934",
   "metadata": {},
   "outputs": [],
   "source": []
  },
  {
   "cell_type": "code",
   "execution_count": null,
   "id": "e9796add-7a95-44ab-a07f-680e8d19e47a",
   "metadata": {},
   "outputs": [],
   "source": []
  },
  {
   "cell_type": "markdown",
   "id": "3dc296cd-2a5f-40e5-804b-9d6cfd0004ff",
   "metadata": {},
   "source": [
    "Wenn wir nun ein ML-Modell mit sklearn trainieren wollen, müssten wir auf die X und Y Koordinaten zurückgreifen"
   ]
  },
  {
   "cell_type": "code",
   "execution_count": null,
   "id": "affccaad-8c2d-4b90-9944-caa4fef6a92b",
   "metadata": {},
   "outputs": [],
   "source": [
    "X = pd.DataFrame([data.geometry.y, data.geometry.x]).transpose() # Merkmale\n",
    "y = data.y # Zielwert\n",
    "\n",
    "X"
   ]
  },
  {
   "cell_type": "code",
   "execution_count": null,
   "id": "469b4752-f2bb-47d3-b8d3-507c1a95c46a",
   "metadata": {},
   "outputs": [],
   "source": [
    "reg = GradientBoostingRegressor()\n",
    "\n",
    "X_train, X_test, y_train, y_test = train_test_split(X, y, test_size=0.2, random_state=42)\n",
    "\n",
    "reg = reg.fit(X_train, y_train)\n",
    "reg.score(X_test, y_test)"
   ]
  },
  {
   "cell_type": "markdown",
   "id": "dfd7bbb1-7baa-4796-b943-c995a9f2714c",
   "metadata": {},
   "source": [
    "Die Vorhersage anhand der Koordinaten läuft also nicht zu gut. Wir können versuchen, stattdessen die Distanz zur nächsten Haltestelle des MVV als Merkmal zu nutzen. \n",
    "\n",
    "Diese gibt es im Datensatz auf dem Open Data Portal: https://opendata.muenchen.de/dataset/haltestellenliste-mvv"
   ]
  },
  {
   "cell_type": "code",
   "execution_count": null,
   "id": "fad72ec0-faa1-47e1-9fa5-f9853541a271",
   "metadata": {},
   "outputs": [],
   "source": []
  },
  {
   "cell_type": "code",
   "execution_count": null,
   "id": "35bc5e8b-4dd7-48fc-bf65-344f086120d8",
   "metadata": {},
   "outputs": [],
   "source": []
  },
  {
   "cell_type": "markdown",
   "id": "4b1e3ed6-245c-4bf5-acea-69dbbfc5371d",
   "metadata": {},
   "source": [
    "Nun erstellen wir eine Funktion, die die Distanz zur nächsten Station (Luftlinie) berechnet und wenden diese auf unseren Datensatz an:"
   ]
  },
  {
   "cell_type": "code",
   "execution_count": null,
   "id": "616b0381-0457-4d79-8127-228fc4704856",
   "metadata": {},
   "outputs": [],
   "source": [
    "def get_nearest_station(point):\n",
    "    return round(stations.to_crs(epsg=25832).distance(point).min())"
   ]
  },
  {
   "cell_type": "code",
   "execution_count": null,
   "id": "9eb3086c-a5dc-4e39-8228-c95905fa36d6",
   "metadata": {},
   "outputs": [],
   "source": []
  },
  {
   "cell_type": "markdown",
   "id": "4defa285-c7c6-4843-aeb2-37d6d53ab9eb",
   "metadata": {},
   "source": [
    "Wenn wir den Regressor nun mit dem neuen Merkmal nearest_station trainieren, erhalten wir einen weitaus besseren Score:"
   ]
  },
  {
   "cell_type": "code",
   "execution_count": null,
   "id": "e0908384-2b62-42e8-aa0f-1b89ee26c0a1",
   "metadata": {},
   "outputs": [],
   "source": [
    "X, y = data.nearest_station.array.reshape(-1, 1), data.y\n",
    "X_train, X_test, y_train, y_test = train_test_split(X, y, test_size=0.2, random_state=42)\n",
    "\n",
    "reg = reg.fit(X_train, y_train)\n",
    "reg.score(X_test, y_test)"
   ]
  },
  {
   "cell_type": "code",
   "execution_count": null,
   "id": "e0cdfeec-9442-420e-b9a0-05f2b1bf72a5",
   "metadata": {},
   "outputs": [],
   "source": []
  }
 ],
 "metadata": {
  "kernelspec": {
   "display_name": "Python 3 (ipykernel)",
   "language": "python",
   "name": "python3"
  },
  "language_info": {
   "codemirror_mode": {
    "name": "ipython",
    "version": 3
   },
   "file_extension": ".py",
   "mimetype": "text/x-python",
   "name": "python",
   "nbconvert_exporter": "python",
   "pygments_lexer": "ipython3",
   "version": "3.8.10"
  }
 },
 "nbformat": 4,
 "nbformat_minor": 5
}
