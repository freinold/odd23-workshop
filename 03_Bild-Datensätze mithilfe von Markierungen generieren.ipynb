{
 "cells": [
  {
   "cell_type": "markdown",
   "id": "d348e97d-540e-4ca6-807e-ec10fc7c0f61",
   "metadata": {},
   "source": [
    "## Bild-Datensätze mithilfe von Markierungen generieren"
   ]
  },
  {
   "cell_type": "code",
   "execution_count": 1,
   "id": "f53e15fb-0ba3-405c-9ef1-d70a2c892685",
   "metadata": {},
   "outputs": [],
   "source": [
    "# ! pip install -U folium geopandas"
   ]
  },
  {
   "cell_type": "markdown",
   "id": "671c827e-82b8-4873-8747-cd8be2b1c3be",
   "metadata": {},
   "source": [
    "### Markierungen von z.B. Bäumen aus OSM extrahieren"
   ]
  },
  {
   "cell_type": "markdown",
   "id": "3bacabc6-86e0-4b50-abcd-fa7f8a0c810f",
   "metadata": {},
   "source": [
    "Zuerst extrahieren wir uns Markierungen bestimmter Features, die uns interessieren.\n",
    "Hierfür können wir z.B. die Feature-Liste von OSM durchsuchen: https://wiki.openstreetmap.org/wiki/DE:Map_Features\n",
    "\n",
    "Haben wir ein für uns passendes Feature gefunden, können wir mit Overpass nach diesem Suchen: https://overpass-turbo.eu/ (Wizard-Query: natural=tree in München)\n",
    "\n",
    "Wollen wir mit den Daten weiterarbeiten, exportieren wir diese als GeoJSON."
   ]
  },
  {
   "cell_type": "markdown",
   "id": "bc974882-3e63-4682-a74c-b3ca5f206263",
   "metadata": {},
   "source": [
    "### auf Open Data Luftbild anzeigen\n"
   ]
  },
  {
   "cell_type": "markdown",
   "id": "eabba432-8841-4728-b2d6-64adf55bc2ce",
   "metadata": {},
   "source": [
    "Um uns die Daten auf dem Open Data Luftbild anzuzeigen, benötigen wir Folium und GeoPandas"
   ]
  },
  {
   "cell_type": "code",
   "execution_count": 2,
   "id": "abf34a78-3ae6-4731-95db-46e227c74c1d",
   "metadata": {},
   "outputs": [],
   "source": [
    "import folium\n",
    "import geopandas as gpd"
   ]
  },
  {
   "cell_type": "markdown",
   "id": "d700977a-8b15-453d-bf35-b432adb52346",
   "metadata": {},
   "source": [
    "Zur Einbindung des Luftbilds müssen wir dessen WMS-Service finden: https://opendata.muenchen.de/dataset/luftbild_2021\n",
    "\n",
    "Diesen können wir uns im WMS Capability Viewer des Geoportal Bayern anzeigen lassen: https://geoportal.bayern.de/getcapabilities/\n",
    "\n",
    "Dort geben wir die URL des WMS-Service an und wählen WMS v1.3.0: https://geoportal.bayern.de/getcapabilities/CapabilitiesViewer?ows_url=https://geoportal.muenchen.de/geoserver/opendata/luftbild_2021/ows?&service=WMS&version=1.3.0&format=html\n",
    "\n",
    "Das Layer binden wir in einer neuen Folium Karte ein, als Mittelpunkt wählen wir den Marienplatz."
   ]
  },
  {
   "cell_type": "code",
   "execution_count": 3,
   "id": "29a6df4d-cb12-4b5b-8429-969ed09f6720",
   "metadata": {},
   "outputs": [],
   "source": [
    "def newMap():\n",
    "    m = folium.Map(location=[48.137222, 11.575278], zoom_start=15)\n",
    "    \n",
    "    folium.raster_layers.WmsTileLayer(\n",
    "        url=\"https://geoportal.muenchen.de/geoserver/opendata/luftbild_2021/ows?SERVICE=WMS\",\n",
    "        layers=\"luftbild_2021\",\n",
    "        transparent=True,\n",
    "        control=True,\n",
    "        fmt=\"image/png\",\n",
    "        overlay=True,\n",
    "        show=True\n",
    "    ).add_to(m)\n",
    "\n",
    "    return m"
   ]
  },
  {
   "cell_type": "markdown",
   "id": "8517467a-7ce8-4fb7-8f6b-7d37573b6a24",
   "metadata": {},
   "source": [
    "Dann lesen wir die Bäume aus dem GeoJSON ein und lassen uns ihre Anzahl ausgeben."
   ]
  },
  {
   "cell_type": "code",
   "execution_count": null,
   "id": "f23b44ef-5488-48f7-a38b-f8d80e04cda1",
   "metadata": {},
   "outputs": [],
   "source": []
  },
  {
   "cell_type": "markdown",
   "id": "5ffe924f-9f0e-4385-89f1-2138837f27d1",
   "metadata": {},
   "source": [
    "Als nächstes generieren wir eine HMTL-Karte, die alle Informationen kombiniert."
   ]
  },
  {
   "cell_type": "code",
   "execution_count": null,
   "id": "40060c8f-a37e-4eee-8ccc-340bbd97f10a",
   "metadata": {},
   "outputs": [],
   "source": []
  },
  {
   "cell_type": "markdown",
   "id": "f204c2b5-9ebb-4bf5-9641-7268b4bbf23c",
   "metadata": {},
   "source": [
    "Dies lässt sich genauso auch für andere Daten wie Fahrradständer, umsetzen."
   ]
  },
  {
   "cell_type": "code",
   "execution_count": null,
   "id": "ef29cbab-359d-4eec-9ea1-53b90fa53ef1",
   "metadata": {},
   "outputs": [],
   "source": []
  },
  {
   "cell_type": "markdown",
   "id": "38f2cd57-ef6c-417f-9210-397081d65ea0",
   "metadata": {},
   "source": [
    "### Tagging und Trainieren"
   ]
  },
  {
   "cell_type": "markdown",
   "id": "0a93e0f2-18ba-4bb2-90ad-eb6fee88b503",
   "metadata": {},
   "source": [
    "Mit diesen Informationen können nun Trainingsdatensätze für Objekterkennung in Luftbildern generiert werden.\n",
    "\n",
    "Geeignete Modelle und Frameworks sind z.B. Deepforest (https://github.com/weecology/DeepForest), aber auch andere Algorithmen (https://paperswithcode.com/task/object-detection-in-aerial-images)\n",
    "\n",
    "Dieser Prozess geht jedoch über den Rahmen des Workshops hinaus."
   ]
  }
 ],
 "metadata": {
  "kernelspec": {
   "display_name": "Python 3 (ipykernel)",
   "language": "python",
   "name": "python3"
  },
  "language_info": {
   "codemirror_mode": {
    "name": "ipython",
    "version": 3
   },
   "file_extension": ".py",
   "mimetype": "text/x-python",
   "name": "python",
   "nbconvert_exporter": "python",
   "pygments_lexer": "ipython3",
   "version": "3.8.10"
  }
 },
 "nbformat": 4,
 "nbformat_minor": 5
}
