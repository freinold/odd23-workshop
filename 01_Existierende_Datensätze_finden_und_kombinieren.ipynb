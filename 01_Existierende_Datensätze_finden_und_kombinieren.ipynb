{
 "cells": [
  {
   "cell_type": "markdown",
   "id": "5e98998b-8770-4a8e-bd92-26428bda60ff",
   "metadata": {},
   "source": [
    "## Existierende Datensätze finden und kombinieren"
   ]
  },
  {
   "cell_type": "code",
   "execution_count": null,
   "id": "1063619f-ce5a-4838-a029-02b13a4f5d1f",
   "metadata": {
    "tags": []
   },
   "outputs": [],
   "source": [
    "# ! pip install -U pandas openpyxl muclearn"
   ]
  },
  {
   "cell_type": "markdown",
   "id": "35ee851a-2d97-4069-a89f-875a3c957d53",
   "metadata": {
    "tags": []
   },
   "source": [
    "### Umweltdaten des LfU"
   ]
  },
  {
   "cell_type": "markdown",
   "id": "cdc84e97-6fcf-45d0-8f61-56799e462ef8",
   "metadata": {
    "tags": []
   },
   "source": [
    "Link: https://www.lfu.bayern.de/umweltdaten/index.htm\n",
    "\n",
    "Wir nehmen uns beispielhaft die Luftdaten PM10 für 2019 aus dem Messwertarchiv. Dann suchen wir uns eine Messstelle heraus und formatieren die Daten so, dass sie für ML benutzt werden können. Hierzu gehört die Umwandlung von Zeitstempeln, das Löschen fehlender Werte und die Umwandlung in tatsächliche Zahlen."
   ]
  },
  {
   "cell_type": "code",
   "execution_count": null,
   "id": "c66c7cdf-f2c3-473c-982f-803dbcb8e14d",
   "metadata": {},
   "outputs": [],
   "source": [
    "import pandas as pd"
   ]
  },
  {
   "cell_type": "code",
   "execution_count": null,
   "id": "1cc6fe87-fd0e-402b-b5d3-e4986fca2875",
   "metadata": {},
   "outputs": [],
   "source": [
    "def fix_timestamp(ts: str):\n",
    "    ts = ts.replace(\" 24:00\", \" 00:00\")\n",
    "    ts = pd.to_datetime(ts, format=\"%d.%m.%Y %H:%M\")\n",
    "    if ts.hour == 0:\n",
    "        ts = ts + pd.Timedelta(days=1)\n",
    "    return ts"
   ]
  },
  {
   "cell_type": "code",
   "execution_count": null,
   "id": "7e69c0cb-51d4-42f4-9624-c2e4f6ac9631",
   "metadata": {
    "tags": []
   },
   "outputs": [],
   "source": []
  },
  {
   "cell_type": "markdown",
   "id": "2b9c9959-c2bd-449f-970d-c67219ac2ff9",
   "metadata": {
    "tags": []
   },
   "source": [
    "### Zeitbezogene Features mit muclearn berechnen"
   ]
  },
  {
   "cell_type": "markdown",
   "id": "7eef6874-69be-4d4b-afd8-f705fcf490f3",
   "metadata": {},
   "source": [
    "Das selbstentwickelte Paket muclearn (in der alpha) stellt diverse Hilfsfunktionen bereit.\n",
    "\n",
    "Wir nutzen hier die im Subpaket date liegende Funktion calculate_datetime_features, die neben direkt aus Zeit und Datum ableitbaren werden auch Feiertage über das Package \"holidays\" sowie bayerische Schulferien, welche mithilfe von Camelot (https://camelot-py.readthedocs.io/en/master/) aus den Archiven der KMK (https://www.kmk.org/de/service/ferien/archiv-der-ferientermine.html) extrahiert wurden, enthält."
   ]
  },
  {
   "cell_type": "code",
   "execution_count": null,
   "id": "1ae1d01a-2304-4679-b880-22922ae52a63",
   "metadata": {},
   "outputs": [],
   "source": [
    "import muclearn.date"
   ]
  },
  {
   "cell_type": "code",
   "execution_count": null,
   "id": "26d58b4b-45da-4ff1-ac57-6e75ce221c8d",
   "metadata": {},
   "outputs": [],
   "source": []
  },
  {
   "cell_type": "markdown",
   "id": "87448510-c6d0-4c38-8647-8f5588034e9a",
   "metadata": {},
   "source": [
    "### Wetter-Daten vom DWD hinzufügen"
   ]
  },
  {
   "cell_type": "markdown",
   "id": "85af25db-e111-4197-8066-75b44bc3c784",
   "metadata": {},
   "source": [
    "https://opendata.dwd.de/climate_environment/CDC/observations_germany/climate/hourly/air_temperature/historical/\n",
    "\n",
    "Wir suchen zuerst die ID der Münchner Station in der Beschreibung, laden dann den zugehörigen Ordner herunter und extrahieren die Datei mit den Stundenwerten."
   ]
  },
  {
   "cell_type": "code",
   "execution_count": null,
   "id": "047404e5-cf92-432d-9c45-3660b1f3f30a",
   "metadata": {},
   "outputs": [],
   "source": []
  },
  {
   "cell_type": "code",
   "execution_count": null,
   "id": "0be4c49d-0743-4039-9e8a-a771bf7d61d3",
   "metadata": {},
   "outputs": [],
   "source": [
    "pm10_full = pm10_timed.join(weather, on=\"datetime\")"
   ]
  },
  {
   "cell_type": "code",
   "execution_count": null,
   "id": "951ea1ad-7847-4ca6-b19f-e17e9ebcc250",
   "metadata": {},
   "outputs": [],
   "source": [
    "pm10_full"
   ]
  },
  {
   "cell_type": "code",
   "execution_count": null,
   "id": "b97278fe-149d-4a43-9343-a01a1f43d280",
   "metadata": {},
   "outputs": [],
   "source": [
    "pm10_full.to_csv(\"../01_resources/pm10_final.csv\")"
   ]
  },
  {
   "cell_type": "code",
   "execution_count": null,
   "id": "874dfd55-021f-44bd-9312-d375beb77505",
   "metadata": {},
   "outputs": [],
   "source": []
  }
 ],
 "metadata": {
  "kernelspec": {
   "display_name": "Python 3 (ipykernel)",
   "language": "python",
   "name": "python3"
  },
  "language_info": {
   "codemirror_mode": {
    "name": "ipython",
    "version": 3
   },
   "file_extension": ".py",
   "mimetype": "text/x-python",
   "name": "python",
   "nbconvert_exporter": "python",
   "pygments_lexer": "ipython3",
   "version": "3.8.10"
  }
 },
 "nbformat": 4,
 "nbformat_minor": 5
}
